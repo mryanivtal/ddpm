{
  "cells": [
    {
      "cell_type": "code",
      "execution_count": 2,
      "metadata": {
        "colab": {
          "base_uri": "https://localhost:8080/"
        },
        "id": "2QJk9bE-d2jK",
        "outputId": "95b187b1-d688-4d76-984a-94f94434f89e"
      },
      "outputs": [
        {
          "output_type": "stream",
          "name": "stdout",
          "text": [
            "Mounted at /content/drive/\n"
          ]
        }
      ],
      "source": [
        "from pathlib import Path\n",
        "import shutil\n",
        "import zipfile\n",
        "\n",
        "# mount drive\n",
        "from google.colab import drive\n",
        "drive.mount('/content/drive/')\n",
        "project_root_path = Path('drive/MyDrive/Colab Notebooks/ddpm')\n",
        "\n",
        "ds_path = Path('datasets')\n",
        "if not ds_path.exists():\n",
        "  # copy cats.zip to local\n",
        "  ds_path.mkdir(exist_ok=True, parents=True)\n",
        "  shutil.copy(project_root_path / Path('cats.zip'), ds_path)\n",
        "\n",
        "  # extract zip\n",
        "  with zipfile.ZipFile(ds_path / Path('cats.zip'), 'r') as zip_ref:\n",
        "      zip_ref.extractall(ds_path)\n",
        "\n",
        "  DATASET_PATH = ds_path / Path('cats')\n"
      ]
    },
    {
      "cell_type": "code",
      "source": [
        "!ls drive/MyDrive\n",
        "\n"
      ],
      "metadata": {
        "colab": {
          "base_uri": "https://localhost:8080/"
        },
        "id": "OfR1Tpr6Uots",
        "outputId": "d4820202-77b1-4d2a-a985-d6ed5e5e8326"
      },
      "execution_count": 3,
      "outputs": [
        {
          "output_type": "stream",
          "name": "stdout",
          "text": [
            " apt\n",
            " Cardei_Rebedea_JNLE_revised_R3.pdf\n",
            "'Carmels docs'\n",
            "'Colab Notebooks'\n",
            "'England plan.xlsx'\n",
            "'ML project with Rabin Medical - Kickoff (upb-kedy-pae - Nov 28, 2022) (1).gjam'\n",
            "'ML project with Rabin Medical - Kickoff (upb-kedy-pae - Nov 28, 2022).gjam'\n",
            "'Ori piano notes'\n",
            " songs\n",
            "'Task2 description.txt'\n",
            "'Untitled document.gdoc'\n",
            "'Untitled map.gmap'\n",
            " Yaniv\n"
          ]
        }
      ]
    },
    {
      "cell_type": "code",
      "execution_count": 4,
      "metadata": {
        "colab": {
          "base_uri": "https://localhost:8080/"
        },
        "id": "J4DWPQ0HbyJF",
        "outputId": "7595ac90-d91c-4e6a-b373-a83c01bf8ff4"
      },
      "outputs": [
        {
          "output_type": "stream",
          "name": "stdout",
          "text": [
            "Fri Mar 31 17:52:18 2023       \n",
            "+-----------------------------------------------------------------------------+\n",
            "| NVIDIA-SMI 525.85.12    Driver Version: 525.85.12    CUDA Version: 12.0     |\n",
            "|-------------------------------+----------------------+----------------------+\n",
            "| GPU  Name        Persistence-M| Bus-Id        Disp.A | Volatile Uncorr. ECC |\n",
            "| Fan  Temp  Perf  Pwr:Usage/Cap|         Memory-Usage | GPU-Util  Compute M. |\n",
            "|                               |                      |               MIG M. |\n",
            "|===============================+======================+======================|\n",
            "|   0  Tesla T4            Off  | 00000000:00:04.0 Off |                    0 |\n",
            "| N/A   51C    P8     9W /  70W |      0MiB / 15360MiB |      0%      Default |\n",
            "|                               |                      |                  N/A |\n",
            "+-------------------------------+----------------------+----------------------+\n",
            "                                                                               \n",
            "+-----------------------------------------------------------------------------+\n",
            "| Processes:                                                                  |\n",
            "|  GPU   GI   CI        PID   Type   Process name                  GPU Memory |\n",
            "|        ID   ID                                                   Usage      |\n",
            "|=============================================================================|\n",
            "|  No running processes found                                                 |\n",
            "+-----------------------------------------------------------------------------+\n",
            "Your runtime has 13.6 gigabytes of available RAM\n",
            "\n",
            "Not using a high-RAM runtime\n"
          ]
        }
      ],
      "source": [
        "# Check env settings\n",
        "gpu_info = !nvidia-smi\n",
        "gpu_info = '\\n'.join(gpu_info)\n",
        "if gpu_info.find('failed') >= 0:\n",
        "  print('Not connected to a GPU')\n",
        "else:\n",
        "  print(gpu_info)\n",
        "\n",
        "\n",
        "from psutil import virtual_memory\n",
        "ram_gb = virtual_memory().total / 1e9\n",
        "print('Your runtime has {:.1f} gigabytes of available RAM\\n'.format(ram_gb))\n",
        "\n",
        "if ram_gb < 20:\n",
        "  print('Not using a high-RAM runtime')\n",
        "else:\n",
        "  print('You are using a high-RAM runtime!')"
      ]
    },
    {
      "cell_type": "code",
      "execution_count": 20,
      "metadata": {
        "colab": {
          "base_uri": "https://localhost:8080/"
        },
        "id": "aWl-7sQib5wf",
        "outputId": "7ffe724a-9a03-4eb7-f0d2-ae247f76b867"
      },
      "outputs": [
        {
          "output_type": "stream",
          "name": "stdout",
          "text": [
            "Cloning into 'ddpm'...\n",
            "remote: Enumerating objects: 340, done.\u001b[K\n",
            "remote: Counting objects: 100% (30/30), done.\u001b[K\n",
            "remote: Compressing objects: 100% (23/23), done.\u001b[K\n",
            "remote: Total 340 (delta 13), reused 17 (delta 7), pack-reused 310\u001b[K\n",
            "Receiving objects: 100% (340/340), 59.41 KiB | 14.85 MiB/s, done.\n",
            "Resolving deltas: 100% (225/225), done.\n"
          ]
        }
      ],
      "source": [
        "!rm -rf ddpm\n",
        "!git clone https://github.com/mryanivtal/ddpm.git\n",
        "MAIN_DIR = './ddpm/src/ddpm_main.py'"
      ]
    },
    {
      "cell_type": "code",
      "execution_count": null,
      "metadata": {
        "colab": {
          "base_uri": "https://localhost:8080/"
        },
        "id": "PPXOc4uhiK6m",
        "outputId": "c855b63c-58ce-48aa-c0e3-6024d9988f55"
      },
      "outputs": [
        {
          "output_type": "stream",
          "name": "stdout",
          "text": [
            "Output path: /content/ddpm/src/../../drive/MyDrive/Colab Notebooks/ddpm/output\n",
            "Random seed: 999\n",
            "GEN_LEARNING_RATE = 0.001\n",
            "NUM_EPOCHS = 100\n",
            "BATCH_SIZE = 400\n",
            "DL_WORKERS = 2\n",
            "Figure(1500x1500)\n",
            "Figure(1040x260)\n",
            "  0% 0/100 [00:00<?, ?it/s]"
          ]
        }
      ],
      "source": [
        "!cd ddpm/src; python ddpm_main.py --datadir=\"../../datasets/cats\" --outdir=\"../../drive/MyDrive/Colab Notebooks/ddpm/output\" --timesteps=300 --batchsize=400 --randomseed=999 --dlworkers=2 --epochs=100 --onebatchperepoch=0 --checkpointevery=5 --inferonly=0 "
      ]
    },
    {
      "cell_type": "code",
      "source": [
        "# !cd ddpm/src; python ddpm_main.py --datadir=\"../../datasets/cats\" --outdir=\"../../drive/MyDrive/Colab Notebooks/ddpm/output\" --timesteps=300 --batchsize=400 --randomseed=999 --dlworkers=2 --epochs=100 --onebatchperepoch=0 --checkpointevery=5 --inferonly=1 --modelcheckpoint=\"../../drive/MyDrive/Colab Notebooks/ddpm/output/model_epoch_30.pt\""
      ],
      "metadata": {
        "id": "nX8QzMJCyrQv"
      },
      "execution_count": null,
      "outputs": []
    }
  ],
  "metadata": {
    "accelerator": "GPU",
    "colab": {
      "provenance": []
    },
    "gpuClass": "standard",
    "kernelspec": {
      "display_name": "Python 3 (ipykernel)",
      "language": "python",
      "name": "python3"
    },
    "language_info": {
      "codemirror_mode": {
        "name": "ipython",
        "version": 3
      },
      "file_extension": ".py",
      "mimetype": "text/x-python",
      "name": "python",
      "nbconvert_exporter": "python",
      "pygments_lexer": "ipython3",
      "version": "3.10.8"
    }
  },
  "nbformat": 4,
  "nbformat_minor": 0
}