{
  "cells": [
    {
      "cell_type": "code",
      "execution_count": 1,
      "metadata": {
        "colab": {
          "base_uri": "https://localhost:8080/"
        },
        "id": "2QJk9bE-d2jK",
        "outputId": "dfa49f82-16f8-479e-dd20-a5f239e79afd"
      },
      "outputs": [
        {
          "output_type": "stream",
          "name": "stdout",
          "text": [
            "Mounted at /content/drive/\n"
          ]
        }
      ],
      "source": [
        "from pathlib import Path\n",
        "import shutil\n",
        "import zipfile\n",
        "\n",
        "# mount drive\n",
        "from google.colab import drive\n",
        "drive.mount('/content/drive/')\n",
        "project_root_path = Path('drive/MyDrive/Colab Notebooks/ddpm')\n",
        "\n",
        "ds_path = Path('datasets')\n",
        "if not ds_path.exists():\n",
        "  # copy cats.zip to local\n",
        "  ds_path.mkdir(exist_ok=True, parents=True)\n",
        "  shutil.copy(project_root_path / Path('cats.zip'), ds_path)\n",
        "\n",
        "  # extract zip\n",
        "  with zipfile.ZipFile(ds_path / Path('cats.zip'), 'r') as zip_ref:\n",
        "      zip_ref.extractall(ds_path)\n",
        "\n",
        "  DATASET_PATH = ds_path / Path('cats')\n"
      ]
    },
    {
      "cell_type": "code",
      "source": [
        "!ls drive/MyDrive\n",
        "\n"
      ],
      "metadata": {
        "colab": {
          "base_uri": "https://localhost:8080/"
        },
        "id": "OfR1Tpr6Uots",
        "outputId": "e5b77e9f-887b-45d7-a489-d8e9572c1600"
      },
      "execution_count": 2,
      "outputs": [
        {
          "output_type": "stream",
          "name": "stdout",
          "text": [
            " apt\n",
            " car\n",
            " Cardei_Rebedea_JNLE_revised_R3.pdf\n",
            "'Carmels docs'\n",
            "'Colab Notebooks'\n",
            "'England plan.xlsx'\n",
            " gan_final.pt\n",
            " MLDS\n",
            "'ML project with Rabin Medical - Kickoff (upb-kedy-pae - Nov 28, 2022) (1).gjam'\n",
            "'ML project with Rabin Medical - Kickoff (upb-kedy-pae - Nov 28, 2022).gjam'\n",
            "'Ori piano notes'\n",
            " Public\n",
            " songs\n",
            "'Task2 description.txt'\n",
            "'Untitled document.gdoc'\n",
            "'Untitled map.gmap'\n",
            " X_train.dat\n",
            " Yaniv\n"
          ]
        }
      ]
    },
    {
      "cell_type": "code",
      "execution_count": 3,
      "metadata": {
        "colab": {
          "base_uri": "https://localhost:8080/"
        },
        "id": "J4DWPQ0HbyJF",
        "outputId": "636be2df-0930-4911-9064-1b849863666f"
      },
      "outputs": [
        {
          "output_type": "stream",
          "name": "stdout",
          "text": [
            "Thu Mar 30 21:30:27 2023       \n",
            "+-----------------------------------------------------------------------------+\n",
            "| NVIDIA-SMI 525.85.12    Driver Version: 525.85.12    CUDA Version: 12.0     |\n",
            "|-------------------------------+----------------------+----------------------+\n",
            "| GPU  Name        Persistence-M| Bus-Id        Disp.A | Volatile Uncorr. ECC |\n",
            "| Fan  Temp  Perf  Pwr:Usage/Cap|         Memory-Usage | GPU-Util  Compute M. |\n",
            "|                               |                      |               MIG M. |\n",
            "|===============================+======================+======================|\n",
            "|   0  Tesla T4            Off  | 00000000:00:04.0 Off |                    0 |\n",
            "| N/A   60C    P8    11W /  70W |      0MiB / 15360MiB |      0%      Default |\n",
            "|                               |                      |                  N/A |\n",
            "+-------------------------------+----------------------+----------------------+\n",
            "                                                                               \n",
            "+-----------------------------------------------------------------------------+\n",
            "| Processes:                                                                  |\n",
            "|  GPU   GI   CI        PID   Type   Process name                  GPU Memory |\n",
            "|        ID   ID                                                   Usage      |\n",
            "|=============================================================================|\n",
            "|  No running processes found                                                 |\n",
            "+-----------------------------------------------------------------------------+\n",
            "Your runtime has 13.6 gigabytes of available RAM\n",
            "\n",
            "Not using a high-RAM runtime\n"
          ]
        }
      ],
      "source": [
        "# Check env settings\n",
        "gpu_info = !nvidia-smi\n",
        "gpu_info = '\\n'.join(gpu_info)\n",
        "if gpu_info.find('failed') >= 0:\n",
        "  print('Not connected to a GPU')\n",
        "else:\n",
        "  print(gpu_info)\n",
        "\n",
        "\n",
        "from psutil import virtual_memory\n",
        "ram_gb = virtual_memory().total / 1e9\n",
        "print('Your runtime has {:.1f} gigabytes of available RAM\\n'.format(ram_gb))\n",
        "\n",
        "if ram_gb < 20:\n",
        "  print('Not using a high-RAM runtime')\n",
        "else:\n",
        "  print('You are using a high-RAM runtime!')"
      ]
    },
    {
      "cell_type": "code",
      "execution_count": 7,
      "metadata": {
        "colab": {
          "base_uri": "https://localhost:8080/"
        },
        "id": "aWl-7sQib5wf",
        "outputId": "d73be19f-0dcf-4203-9c97-0ccbf8dd9d10"
      },
      "outputs": [
        {
          "output_type": "stream",
          "name": "stdout",
          "text": [
            "Cloning into 'ddpm'...\n",
            "remote: Enumerating objects: 209, done.\u001b[K\n",
            "remote: Counting objects: 100% (209/209), done.\u001b[K\n",
            "remote: Compressing objects: 100% (146/146), done.\u001b[K\n",
            "remote: Total 209 (delta 131), reused 136 (delta 61), pack-reused 0\u001b[K\n",
            "Receiving objects: 100% (209/209), 38.77 KiB | 6.46 MiB/s, done.\n",
            "Resolving deltas: 100% (131/131), done.\n"
          ]
        }
      ],
      "source": [
        "!rm -rf ddpm\n",
        "!git clone https://github.com/mryanivtal/ddpm.git\n",
        "MAIN_DIR = './ddpm/src/ddpm_main.py'"
      ]
    },
    {
      "cell_type": "code",
      "execution_count": null,
      "metadata": {
        "colab": {
          "base_uri": "https://localhost:8080/"
        },
        "id": "PPXOc4uhiK6m",
        "outputId": "1926023b-aab6-45a5-c78c-42223d6abac4"
      },
      "outputs": [
        {
          "output_type": "stream",
          "name": "stdout",
          "text": [
            "Output path: /content/ddpm/src/../../drive/MyDrive/Colab Notebooks/ddpm/output\n",
            "Random seed: 999\n",
            "GEN_LEARNING_RATE = 0.001\n",
            "GEN_BETA = 0.5\n",
            "NUM_EPOCHS = 100\n",
            "BATCH_SIZE = 400\n",
            "DL_WORKERS = 2\n",
            "  0% 0/100 [00:00<?, ?it/s]Epoch: 1, loss: {'epoch': 1, 'loss': 0.4842044301331043}\n",
            "Figure(1500x1500)\n",
            "Figure(1040x260)\n",
            "  1% 1/100 [01:55<3:10:41, 115.57s/it]Epoch: 2, loss: {'epoch': 2, 'loss': 0.38750510588288306}\n",
            "Figure(1500x1500)\n",
            "Figure(1040x260)\n",
            "  2% 2/100 [03:51<3:08:56, 115.68s/it]Epoch: 3, loss: {'epoch': 3, 'loss': 0.3040618434548378}\n",
            "Figure(1500x1500)\n",
            "Figure(1040x260)\n",
            "  3% 3/100 [05:46<3:06:30, 115.37s/it]Epoch: 4, loss: {'epoch': 4, 'loss': 0.29648698419332503}\n",
            "Figure(1500x1500)\n",
            "Figure(1040x260)\n",
            "  4% 4/100 [07:41<3:04:10, 115.11s/it]Epoch: 5, loss: {'epoch': 5, 'loss': 0.27868359461426734}\n",
            "Figure(1500x1500)\n",
            "Figure(1040x260)\n",
            "  5% 5/100 [09:36<3:02:23, 115.19s/it]Epoch: 6, loss: {'epoch': 6, 'loss': 0.26960797905921935}\n",
            "Figure(1500x1500)\n",
            "Figure(1040x260)\n",
            "  6% 6/100 [11:31<3:00:13, 115.04s/it]Epoch: 7, loss: {'epoch': 7, 'loss': 0.26093640401959417}\n",
            "Figure(1500x1500)\n",
            "Figure(1040x260)\n",
            "  7% 7/100 [13:26<2:58:17, 115.03s/it]"
          ]
        }
      ],
      "source": [
        "!cd ddpm/src; python ddpm_main.py --datadir=\"../../datasets/cats\" --outdir=\"../../drive/MyDrive/Colab Notebooks/ddpm/output\" --epochs=100 --batchsize=400 --randomseed=999 --dlworkers=2 --epochs=100 --onebatchperepoch=0 "
      ]
    },
    {
      "cell_type": "code",
      "source": [],
      "metadata": {
        "id": "qDzw21PpY7gK"
      },
      "execution_count": 5,
      "outputs": []
    }
  ],
  "metadata": {
    "accelerator": "GPU",
    "colab": {
      "provenance": []
    },
    "gpuClass": "standard",
    "kernelspec": {
      "display_name": "Python 3 (ipykernel)",
      "language": "python",
      "name": "python3"
    },
    "language_info": {
      "codemirror_mode": {
        "name": "ipython",
        "version": 3
      },
      "file_extension": ".py",
      "mimetype": "text/x-python",
      "name": "python",
      "nbconvert_exporter": "python",
      "pygments_lexer": "ipython3",
      "version": "3.10.8"
    }
  },
  "nbformat": 4,
  "nbformat_minor": 0
}